{
 "cells": [
  {
   "cell_type": "code",
   "execution_count": null,
   "metadata": {
    "scrolled": true
   },
   "outputs": [],
   "source": [
    "!pip install scipy dask matplotlib"
   ]
  },
  {
   "cell_type": "code",
   "execution_count": null,
   "metadata": {},
   "outputs": [],
   "source": [
    "from pathlib import Path\n",
    "from zipfile import ZipFile\n",
    "\n",
    "from rich.progress import track\n",
    "from jupytergis.tiler import GISDocument\n",
    "import httpx\n",
    "import rioxarray\n",
    "import xarray as xr\n",
    "import scipy.ndimage"
   ]
  },
  {
   "cell_type": "markdown",
   "metadata": {},
   "source": [
    "We download the [HydroSHEDS](https://hydrosheds.org) dataset, and in particular the digital elevation model and the flow accumulation for South America. You can think of flow accumulation as a potential river flow, so we will try to visualize rivers on top of the terrain."
   ]
  },
  {
   "cell_type": "code",
   "execution_count": null,
   "metadata": {},
   "outputs": [],
   "source": [
    "url = \"https://edcintl.cr.usgs.gov/downloads/sciweb1/shared/hydrosheds/sa_30s_zip_grid/sa_acc_30s_grid.zip\"\n",
    "filename = Path(url).name\n",
    "name = filename[: filename.find(\"_grid\")]\n",
    "adffile_acc = Path(name) / name / \"w001001.adf\"\n",
    "\n",
    "if not adffile_acc.exists():\n",
    "    with httpx.stream(\"GET\", url) as r, open(filename, \"wb\") as f:\n",
    "        total = int(r.headers[\"Content-Length\"]) / 1024\n",
    "        for data in track(\n",
    "            r.iter_bytes(chunk_size=1024), total=total, description=\"Downloading\"\n",
    "        ):\n",
    "            f.write(data)\n",
    "        f.flush()\n",
    "    zip = ZipFile(filename)\n",
    "    zip.extractall(\".\")"
   ]
  },
  {
   "cell_type": "code",
   "execution_count": null,
   "metadata": {},
   "outputs": [],
   "source": [
    "url = \"https://edcintl.cr.usgs.gov/downloads/sciweb1/shared/hydrosheds/sa_30s_zip_grid/sa_dem_30s_grid.zip\"\n",
    "filename = Path(url).name\n",
    "name = filename[: filename.find(\"_grid\")]\n",
    "adffile_dem = Path(name) / name / \"w001001.adf\"\n",
    "\n",
    "if not adffile_dem.exists():\n",
    "    with httpx.stream(\"GET\", url) as r, open(filename, \"wb\") as f:\n",
    "        total = int(r.headers[\"Content-Length\"]) / 1024\n",
    "        for data in track(\n",
    "            r.iter_bytes(chunk_size=1024), total=total, description=\"Downloading\"\n",
    "        ):\n",
    "            f.write(data)\n",
    "        f.flush()\n",
    "    zip = ZipFile(filename)\n",
    "    zip.extractall(\".\")"
   ]
  },
  {
   "cell_type": "markdown",
   "metadata": {},
   "source": [
    "Let's load the data into data arrays."
   ]
  },
  {
   "cell_type": "code",
   "execution_count": null,
   "metadata": {},
   "outputs": [],
   "source": [
    "da_acc = rioxarray.open_rasterio(adffile_acc, masked=True)\n",
    "da_acc"
   ]
  },
  {
   "cell_type": "code",
   "execution_count": null,
   "metadata": {},
   "outputs": [],
   "source": [
    "da_dem = rioxarray.open_rasterio(adffile_dem, masked=True)\n",
    "da_dem"
   ]
  },
  {
   "cell_type": "markdown",
   "metadata": {},
   "source": [
    "We just need to select the band. We will also chunk it in order to improve performances."
   ]
  },
  {
   "cell_type": "code",
   "execution_count": null,
   "metadata": {},
   "outputs": [],
   "source": [
    "da_acc = da_acc.sel(band=1)\n",
    "da_acc = da_acc.chunk(dict(x=1000, y=1000))"
   ]
  },
  {
   "cell_type": "code",
   "execution_count": null,
   "metadata": {},
   "outputs": [],
   "source": [
    "da_dem = da_dem.sel(band=1)\n",
    "da_dem = da_dem.chunk(dict(x=1000, y=1000))"
   ]
  },
  {
   "cell_type": "markdown",
   "metadata": {},
   "source": [
    "We will need the min/max values to rescale."
   ]
  },
  {
   "cell_type": "code",
   "execution_count": null,
   "metadata": {},
   "outputs": [],
   "source": [
    "vmin_acc, vmax_acc = int(da_acc.min().compute()), int(da_acc.max().compute())\n",
    "vmin_acc, vmax_acc"
   ]
  },
  {
   "cell_type": "code",
   "execution_count": null,
   "metadata": {},
   "outputs": [],
   "source": [
    "vmin_dem, vmax_dem = int(da_dem.min().compute()), int(da_dem.max().compute())\n",
    "vmin_dem, vmax_dem"
   ]
  },
  {
   "cell_type": "code",
   "execution_count": null,
   "metadata": {},
   "outputs": [],
   "source": [
    "from pathlib import Path\n",
    "from titiler.core.algorithm import BaseAlgorithm\n",
    "from rio_tiler.models import ImageData\n",
    "import numpy as np\n",
    "\n",
    "radius = 1\n",
    "circle = np.zeros((2*radius+1, 2*radius+1)).astype(\"uint8\")\n",
    "y, x = np.ogrid[-radius:radius+1, -radius:radius+1]\n",
    "index = x**2 + y**2 <= radius**2\n",
    "circle[index] = 1\n",
    "\n",
    "class AlgoAcc(BaseAlgorithm):\n",
    "    def __call__(self, img: ImageData) -> ImageData:\n",
    "        data = np.log(img.data[0])\n",
    "        data = scipy.ndimage.maximum_filter(data, footprint=circle)\n",
    "        mask = np.where((np.isnan(data)) | (data<np.log(1000)), 255, 0)\n",
    "        data = np.ma.MaskedArray(data, mask=mask)\n",
    "        return ImageData(\n",
    "            data,\n",
    "            assets=img.assets,\n",
    "            crs=img.crs,\n",
    "            bounds=img.bounds,\n",
    "        )"
   ]
  },
  {
   "cell_type": "code",
   "execution_count": null,
   "metadata": {},
   "outputs": [],
   "source": [
    "Path(\"south_america.jGIS\").unlink(missing_ok=True)\n",
    "doc = GISDocument(\"south_america.jGIS\")\n",
    "doc"
   ]
  },
  {
   "cell_type": "code",
   "execution_count": null,
   "metadata": {
    "scrolled": true
   },
   "outputs": [],
   "source": [
    "await doc.add_tiler_layer(\n",
    "    name=\"Digital elevation model layer\",\n",
    "    data_array=da_dem,\n",
    "    colormap_name=\"terrain\",\n",
    "    rescale=(vmin_dem, vmax_dem),\n",
    ")"
   ]
  },
  {
   "cell_type": "code",
   "execution_count": null,
   "metadata": {
    "scrolled": true
   },
   "outputs": [],
   "source": [
    "await doc.add_tiler_layer(\n",
    "    name=\"Flow accumulation layer\",\n",
    "    data_array=da_acc,\n",
    "    colormap_name=\"plasma\",\n",
    "    rescale=np.log([vmin_acc, vmax_acc]),\n",
    "    algorithm=AlgoAcc,\n",
    "    reproject=\"max\",\n",
    ")"
   ]
  },
  {
   "cell_type": "code",
   "execution_count": null,
   "metadata": {},
   "outputs": [],
   "source": [
    "# not mandatory, but helps shutting down the kernel gracefully:\n",
    "# await doc.stop_tile_server()"
   ]
  },
  {
   "cell_type": "code",
   "execution_count": null,
   "metadata": {},
   "outputs": [],
   "source": []
  }
 ],
 "metadata": {
  "kernelspec": {
   "display_name": "Python 3 (ipykernel)",
   "language": "python",
   "name": "python3"
  },
  "language_info": {
   "codemirror_mode": {
    "name": "ipython",
    "version": 3
   },
   "file_extension": ".py",
   "mimetype": "text/x-python",
   "name": "python",
   "nbconvert_exporter": "python",
   "pygments_lexer": "ipython3",
   "version": "3.13.5"
  }
 },
 "nbformat": 4,
 "nbformat_minor": 4
}
