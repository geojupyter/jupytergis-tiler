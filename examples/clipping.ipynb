{
 "cells": [
  {
   "cell_type": "code",
   "execution_count": null,
   "id": "7608fb13-3ca7-4b01-98aa-75424872cf34",
   "metadata": {
    "scrolled": true
   },
   "outputs": [],
   "source": [
    "!pip install geopandas dask"
   ]
  },
  {
   "cell_type": "code",
   "execution_count": null,
   "id": "eeefd20c-fbb9-4843-96c1-fa0086591b65",
   "metadata": {},
   "outputs": [],
   "source": [
    "from pathlib import Path\n",
    "from zipfile import ZipFile\n",
    "\n",
    "import geopandas as gpd\n",
    "from rich.progress import track\n",
    "from jupytergis.tiler import GISDocument\n",
    "import httpx\n",
    "import rioxarray"
   ]
  },
  {
   "cell_type": "markdown",
   "id": "eef37558-b138-4941-a781-5208812b979e",
   "metadata": {},
   "source": [
    "Please run the `south_america.ipynb` notebook in order to download the DEM data."
   ]
  },
  {
   "cell_type": "code",
   "execution_count": null,
   "id": "8857aaf9-baf7-4f32-ab6e-8b03df65d148",
   "metadata": {},
   "outputs": [],
   "source": [
    "url = \"https://edcintl.cr.usgs.gov/downloads/sciweb1/shared/hydrosheds/sa_30s_zip_grid/sa_dem_30s_grid.zip\"\n",
    "filename = Path(url).name\n",
    "name = filename[: filename.find(\"_grid\")]\n",
    "adffile_dem = Path(name) / name / \"w001001.adf\"\n",
    "da_dem = rioxarray.open_rasterio(adffile_dem, masked=True)\n",
    "da_dem = da_dem.sel(band=1)\n",
    "da_dem = da_dem.chunk(dict(x=1000, y=1000))\n",
    "vmin_dem, vmax_dem = int(da_dem.min().compute()), int(da_dem.max().compute())\n",
    "vmin_dem, vmax_dem"
   ]
  },
  {
   "cell_type": "markdown",
   "id": "bee2be80-d7e5-4184-9b7a-414118703577",
   "metadata": {},
   "source": [
    "Let's download some watershed shapefiles for South America."
   ]
  },
  {
   "cell_type": "code",
   "execution_count": null,
   "id": "a826d830-369d-4c48-a7e9-dd0af56ae80d",
   "metadata": {},
   "outputs": [],
   "source": [
    "url = \"https://data.hydrosheds.org/file/hydrobasins/standard/hybas_sa_lev01-12_v1c.zip\"\n",
    "filename = Path(\"hybas_sa_lev01-12_v1c.zip\")\n",
    "\n",
    "if not filename.exists():\n",
    "    with httpx.stream(\"GET\", url) as r, open(filename, \"wb\") as f:\n",
    "        total = int(r.headers[\"Content-Length\"]) / 1024\n",
    "        for data in track(\n",
    "            r.iter_bytes(chunk_size=1024), total=total, description=\"Downloading\"\n",
    "        ):\n",
    "            f.write(data)\n",
    "        f.flush()\n",
    "    zip = ZipFile(filename)\n",
    "    zip.extractall(\"hybas_sa_lev01-12_v1c\")"
   ]
  },
  {
   "cell_type": "markdown",
   "id": "4f7093fa-6886-466b-b569-927a07d39b48",
   "metadata": {},
   "source": [
    "The data consists of multiple levels of watersheds."
   ]
  },
  {
   "cell_type": "code",
   "execution_count": null,
   "id": "b677cb0f-9e9f-4d3a-ac5c-df08cf045a42",
   "metadata": {},
   "outputs": [],
   "source": [
    "shape = gpd.read_file(\"hybas_sa_lev01-12_v1c/hybas_sa_lev03_v1c.shp\")\n",
    "shape.plot()"
   ]
  },
  {
   "cell_type": "markdown",
   "id": "d7d38128-e3a6-48fb-80cc-9adc9ccb1a55",
   "metadata": {},
   "source": [
    "We will use the Amazon river watershed to clip the DEM data."
   ]
  },
  {
   "cell_type": "code",
   "execution_count": null,
   "id": "e17a293d-4d8f-401f-a1be-8c6c761f87dd",
   "metadata": {},
   "outputs": [],
   "source": [
    "geometry = shape.iloc[6].geometry\n",
    "geometry"
   ]
  },
  {
   "cell_type": "code",
   "execution_count": null,
   "id": "99cdc8b1-6ca0-43c9-9ce2-8439eb8e29ef",
   "metadata": {},
   "outputs": [],
   "source": [
    "geodf = gpd.GeoDataFrame(\n",
    "    geometry=[geometry],\n",
    "    crs=\"EPSG:4326\"\n",
    ")"
   ]
  },
  {
   "cell_type": "code",
   "execution_count": null,
   "id": "316938af-e79b-4d55-9121-0cbb49245cb1",
   "metadata": {},
   "outputs": [],
   "source": [
    "Path(\"clipping.jGIS\").unlink(missing_ok=True)\n",
    "doc = GISDocument(\"clipping.jGIS\")\n",
    "doc"
   ]
  },
  {
   "cell_type": "code",
   "execution_count": null,
   "id": "e5cf31bd-c8a9-42cd-b7b0-540fe89416e4",
   "metadata": {},
   "outputs": [],
   "source": [
    "from pathlib import Path\n",
    "from titiler.core.algorithm import BaseAlgorithm\n",
    "from rio_tiler.models import ImageData\n",
    "import xarray as xr\n",
    "import numpy as np\n",
    "\n",
    "class ClipAlgo(BaseAlgorithm):\n",
    "    def __call__(self, img: ImageData) -> ImageData:\n",
    "        data = img.data[0]\n",
    "        dx = (img.bounds.right - img.bounds.left) / data.shape[1]\n",
    "        dy = (img.bounds.top - img.bounds.bottom) / data.shape[0]\n",
    "        x = [img.bounds.left + i * dx for i in range(data.shape[1])]\n",
    "        y = [img.bounds.top - i * dy for i in range(data.shape[0])]\n",
    "        coords = {\"x\": x, \"y\": y}\n",
    "        data_array = xr.DataArray(data, dims=(\"y\", \"x\"), coords=coords)\n",
    "        data_array.rio.write_crs(\"epsg:3857\", inplace=True)\n",
    "        try:\n",
    "            clipped = data_array.rio.clip(geodf.geometry.values, geodf.crs, drop=False).values\n",
    "        except BaseException as e:\n",
    "            clipped = np.zeros_like(data)\n",
    "        return ImageData(\n",
    "            clipped,\n",
    "            assets=img.assets,\n",
    "            crs=img.crs,\n",
    "            bounds=img.bounds,\n",
    "        )"
   ]
  },
  {
   "cell_type": "code",
   "execution_count": null,
   "id": "a45f4821-230d-4ab5-8b29-cd9cc40d44c8",
   "metadata": {
    "scrolled": true
   },
   "outputs": [],
   "source": [
    "await doc.add_tiler_layer(\n",
    "    name=\"Digital elevation model layer\",\n",
    "    data_array=da_dem,\n",
    "    colormap_name=\"terrain\",\n",
    "    rescale=(vmin_dem, vmax_dem),\n",
    "    algorithm=ClipAlgo,\n",
    ")"
   ]
  },
  {
   "cell_type": "code",
   "execution_count": null,
   "id": "48fc4261-39fc-4658-b8d0-cbab05102400",
   "metadata": {},
   "outputs": [],
   "source": [
    "# not mandatory, but helps shutting down the kernel gracefully:\n",
    "# await doc.stop_tile_server()"
   ]
  }
 ],
 "metadata": {
  "kernelspec": {
   "display_name": "Python 3 (ipykernel)",
   "language": "python",
   "name": "python3"
  },
  "language_info": {
   "codemirror_mode": {
    "name": "ipython",
    "version": 3
   },
   "file_extension": ".py",
   "mimetype": "text/x-python",
   "name": "python",
   "nbconvert_exporter": "python",
   "pygments_lexer": "ipython3",
   "version": "3.13.5"
  }
 },
 "nbformat": 4,
 "nbformat_minor": 5
}
